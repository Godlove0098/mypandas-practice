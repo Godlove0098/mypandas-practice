{
 "cells": [
  {
   "cell_type": "code",
   "execution_count": 3,
   "metadata": {},
   "outputs": [],
   "source": [
    "#Importing Python Libraries. \n",
    "import pandas as pd \n",
    "import numpy as np\n",
    "import seaborn as sns \n",
    "import matplotlib.pyplot as plt "
   ]
  },
  {
   "cell_type": "code",
   "execution_count": 17,
   "metadata": {},
   "outputs": [],
   "source": [
    "#Reading .csv file into jupyter notebook\n",
    "billboard=pd.read_csv(\"bill_board_top_100.csv\")"
   ]
  },
  {
   "cell_type": "code",
   "execution_count": 18,
   "metadata": {},
   "outputs": [
    {
     "data": {
      "text/html": [
       "<div>\n",
       "<style scoped>\n",
       "    .dataframe tbody tr th:only-of-type {\n",
       "        vertical-align: middle;\n",
       "    }\n",
       "\n",
       "    .dataframe tbody tr th {\n",
       "        vertical-align: top;\n",
       "    }\n",
       "\n",
       "    .dataframe thead th {\n",
       "        text-align: right;\n",
       "    }\n",
       "</style>\n",
       "<table border=\"1\" class=\"dataframe\">\n",
       "  <thead>\n",
       "    <tr style=\"text-align: right;\">\n",
       "      <th></th>\n",
       "      <th>year</th>\n",
       "      <th>year_rank</th>\n",
       "      <th>group</th>\n",
       "      <th>artist</th>\n",
       "      <th>song_name</th>\n",
       "      <th>id</th>\n",
       "    </tr>\n",
       "  </thead>\n",
       "  <tbody>\n",
       "    <tr>\n",
       "      <th>0</th>\n",
       "      <td>1956.0</td>\n",
       "      <td>1.0</td>\n",
       "      <td>Elvis Presley</td>\n",
       "      <td>Elvis Presley</td>\n",
       "      <td>Heartbreak Hotel</td>\n",
       "      <td>1</td>\n",
       "    </tr>\n",
       "    <tr>\n",
       "      <th>1</th>\n",
       "      <td>1956.0</td>\n",
       "      <td>2.0</td>\n",
       "      <td>Elvis Presley</td>\n",
       "      <td>Elvis Presley</td>\n",
       "      <td>Don't Be Cruel</td>\n",
       "      <td>2</td>\n",
       "    </tr>\n",
       "    <tr>\n",
       "      <th>2</th>\n",
       "      <td>1956.0</td>\n",
       "      <td>3.0</td>\n",
       "      <td>Nelson Riddle</td>\n",
       "      <td>Nelson Riddle</td>\n",
       "      <td>Lisbon Antigua</td>\n",
       "      <td>3</td>\n",
       "    </tr>\n",
       "    <tr>\n",
       "      <th>3</th>\n",
       "      <td>1956.0</td>\n",
       "      <td>4.0</td>\n",
       "      <td>Platters</td>\n",
       "      <td>Platters</td>\n",
       "      <td>My Prayer</td>\n",
       "      <td>4</td>\n",
       "    </tr>\n",
       "    <tr>\n",
       "      <th>4</th>\n",
       "      <td>1956.0</td>\n",
       "      <td>5.0</td>\n",
       "      <td>Gogi Grant</td>\n",
       "      <td>Gogi Grant</td>\n",
       "      <td>The Wayward Wind</td>\n",
       "      <td>5</td>\n",
       "    </tr>\n",
       "  </tbody>\n",
       "</table>\n",
       "</div>"
      ],
      "text/plain": [
       "     year  year_rank          group         artist         song_name  id\n",
       "0  1956.0        1.0  Elvis Presley  Elvis Presley  Heartbreak Hotel   1\n",
       "1  1956.0        2.0  Elvis Presley  Elvis Presley    Don't Be Cruel   2\n",
       "2  1956.0        3.0  Nelson Riddle  Nelson Riddle    Lisbon Antigua   3\n",
       "3  1956.0        4.0       Platters       Platters         My Prayer   4\n",
       "4  1956.0        5.0     Gogi Grant     Gogi Grant  The Wayward Wind   5"
      ]
     },
     "execution_count": 18,
     "metadata": {},
     "output_type": "execute_result"
    }
   ],
   "source": [
    "#Checking the first five data points / rows of the data set\n",
    "billboard.head()"
   ]
  },
  {
   "cell_type": "code",
   "execution_count": 19,
   "metadata": {},
   "outputs": [
    {
     "data": {
      "text/html": [
       "<div>\n",
       "<style scoped>\n",
       "    .dataframe tbody tr th:only-of-type {\n",
       "        vertical-align: middle;\n",
       "    }\n",
       "\n",
       "    .dataframe tbody tr th {\n",
       "        vertical-align: top;\n",
       "    }\n",
       "\n",
       "    .dataframe thead th {\n",
       "        text-align: right;\n",
       "    }\n",
       "</style>\n",
       "<table border=\"1\" class=\"dataframe\">\n",
       "  <thead>\n",
       "    <tr style=\"text-align: right;\">\n",
       "      <th></th>\n",
       "      <th>year</th>\n",
       "      <th>year_rank</th>\n",
       "      <th>group</th>\n",
       "      <th>artist</th>\n",
       "      <th>song_name</th>\n",
       "      <th>id</th>\n",
       "    </tr>\n",
       "  </thead>\n",
       "  <tbody>\n",
       "    <tr>\n",
       "      <th>6471</th>\n",
       "      <td>2013.0</td>\n",
       "      <td>96.0</td>\n",
       "      <td>Sara Bareilles</td>\n",
       "      <td>Sara Bareilles</td>\n",
       "      <td>Brave</td>\n",
       "      <td>6472</td>\n",
       "    </tr>\n",
       "    <tr>\n",
       "      <th>6472</th>\n",
       "      <td>2013.0</td>\n",
       "      <td>97.0</td>\n",
       "      <td>Passenger</td>\n",
       "      <td>Passenger</td>\n",
       "      <td>Let Her Go</td>\n",
       "      <td>6473</td>\n",
       "    </tr>\n",
       "    <tr>\n",
       "      <th>6473</th>\n",
       "      <td>2013.0</td>\n",
       "      <td>98.0</td>\n",
       "      <td>Randy Houser</td>\n",
       "      <td>Randy Houser</td>\n",
       "      <td>Runnin' Outta Moonlight</td>\n",
       "      <td>6474</td>\n",
       "    </tr>\n",
       "    <tr>\n",
       "      <th>6474</th>\n",
       "      <td>2013.0</td>\n",
       "      <td>99.0</td>\n",
       "      <td>2 Chainz</td>\n",
       "      <td>2 Chainz</td>\n",
       "      <td>I'm Different</td>\n",
       "      <td>6475</td>\n",
       "    </tr>\n",
       "    <tr>\n",
       "      <th>6475</th>\n",
       "      <td>2013.0</td>\n",
       "      <td>100.0</td>\n",
       "      <td>Paramore</td>\n",
       "      <td>Paramore</td>\n",
       "      <td>Still Into You</td>\n",
       "      <td>6476</td>\n",
       "    </tr>\n",
       "  </tbody>\n",
       "</table>\n",
       "</div>"
      ],
      "text/plain": [
       "        year  year_rank           group          artist  \\\n",
       "6471  2013.0       96.0  Sara Bareilles  Sara Bareilles   \n",
       "6472  2013.0       97.0       Passenger       Passenger   \n",
       "6473  2013.0       98.0    Randy Houser    Randy Houser   \n",
       "6474  2013.0       99.0        2 Chainz        2 Chainz   \n",
       "6475  2013.0      100.0        Paramore        Paramore   \n",
       "\n",
       "                    song_name    id  \n",
       "6471                    Brave  6472  \n",
       "6472               Let Her Go  6473  \n",
       "6473  Runnin' Outta Moonlight  6474  \n",
       "6474            I'm Different  6475  \n",
       "6475           Still Into You  6476  "
      ]
     },
     "execution_count": 19,
     "metadata": {},
     "output_type": "execute_result"
    }
   ],
   "source": [
    "#Checking the last five data points / rows of the data set\n",
    "billboard.tail()"
   ]
  },
  {
   "cell_type": "code",
   "execution_count": 20,
   "metadata": {},
   "outputs": [
    {
     "name": "stdout",
     "output_type": "stream",
     "text": [
      "<class 'pandas.core.frame.DataFrame'>\n",
      "RangeIndex: 6476 entries, 0 to 6475\n",
      "Data columns (total 6 columns):\n",
      "year         6476 non-null float64\n",
      "year_rank    6476 non-null float64\n",
      "group        6476 non-null object\n",
      "artist       6467 non-null object\n",
      "song_name    6470 non-null object\n",
      "id           6476 non-null int64\n",
      "dtypes: float64(2), int64(1), object(3)\n",
      "memory usage: 303.6+ KB\n"
     ]
    }
   ],
   "source": [
    "#Printing the description of the data set, including the column names, total number of rows, the index, data types and memory usage \n",
    "billboard.info()"
   ]
  }
 ],
 "metadata": {
  "kernelspec": {
   "display_name": "Python 3",
   "language": "python",
   "name": "python3"
  },
  "language_info": {
   "codemirror_mode": {
    "name": "ipython",
    "version": 3
   },
   "file_extension": ".py",
   "mimetype": "text/x-python",
   "name": "python",
   "nbconvert_exporter": "python",
   "pygments_lexer": "ipython3",
   "version": "3.7.3"
  }
 },
 "nbformat": 4,
 "nbformat_minor": 2
}
